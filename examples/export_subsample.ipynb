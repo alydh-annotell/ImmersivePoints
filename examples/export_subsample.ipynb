{
 "cells": [
  {
   "cell_type": "code",
   "execution_count": null,
   "metadata": {},
   "outputs": [],
   "source": [
    "import numpy as np\n",
    "points = np.load('big_pointcloud.npy')"
   ]
  },
  {
   "cell_type": "code",
   "execution_count": null,
   "metadata": {},
   "outputs": [],
   "source": [
    "# Subsample all points\n",
    "shortpoints = np.copy(points[::200, :4])\n",
    "\n",
    "# Put the points around the camera\n",
    "shortpoints[:,0] -= shortpoints[:,0].mean()\n",
    "shortpoints[:,1] -= shortpoints[:,1].mean()\n",
    "shortpoints[:,2] -= shortpoints[:,2].mean()\n",
    "\n",
    "# Resize the pointcloud\n",
    "shortpoints[:,:3] *= 0.4\n",
    "\n",
    "# Hue between 0 and 1\n",
    "shortpoints[:,3] /= 255.0\n",
    "\n",
    "# Swap dimensions\n",
    "shortpoints = shortpoints[:,[0,2,1,3]]\n",
    "\n",
    "# and save them! Ready to upload\n",
    "shortpoints.astype(np.float32).byteswap().tofile('big_subsampled.npy')"
   ]
  },
  {
   "cell_type": "code",
   "execution_count": null,
   "metadata": {},
   "outputs": [],
   "source": []
  }
 ],
 "metadata": {
  "kernelspec": {
   "display_name": "Python 3",
   "language": "python",
   "name": "python3"
  },
  "language_info": {
   "codemirror_mode": {
    "name": "ipython",
    "version": 3
   },
   "file_extension": ".py",
   "mimetype": "text/x-python",
   "name": "python",
   "nbconvert_exporter": "python",
   "pygments_lexer": "ipython3",
   "version": "3.7.2"
  }
 },
 "nbformat": 4,
 "nbformat_minor": 2
}
