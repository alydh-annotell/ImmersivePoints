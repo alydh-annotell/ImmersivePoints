{
 "cells": [
  {
   "cell_type": "markdown",
   "metadata": {},
   "source": [
    "# Visualise both lidar and radar\n",
    "\n",
    "You can find the dataset here: https://www.astyx.com/development/astyx-hires2019-dataset.html"
   ]
  },
  {
   "cell_type": "code",
   "execution_count": 1,
   "metadata": {},
   "outputs": [],
   "source": [
    "import math\n",
    "import numpy as np\n",
    "import matplotlib.pyplot as plt\n",
    "import json\n",
    "import IPython\n",
    "import json\n",
    "import base64\n",
    "import numpy as np\n",
    "\n",
    "%matplotlib inline\n",
    "\n",
    "folder_lidar = \"/Users/rmeertens/Downloads/dataset_astyx_hires2019/dataset_astyx_demo/lidar_os1/\"\n",
    "folder_radar = \"/Users/rmeertens/Downloads/dataset_astyx_hires2019/dataset_astyx_demo/radar_hires1/\"\n",
    "folder_bbox = \"/Users/rmeertens/Downloads/dataset_astyx_hires2019/dataset_astyx_demo/groundtruth_obj3d/\"\n",
    "\n",
    "# Note that calibration is always the same for these few examples I use\n",
    "with open(\"/Users/rmeertens/Downloads/dataset_astyx_hires2019/dataset_astyx_demo/calibration/000000.json\") as json_file:\n",
    "    data = json.load(json_file)\n",
    "    for a in data['sensors']:\n",
    "        if a['sensor_uid'] == 'lidar_os1':\n",
    "            lidar_to_radar = a['calib_data']['T_to_ref_COS']\n"
   ]
  },
  {
   "cell_type": "code",
   "execution_count": 2,
   "metadata": {},
   "outputs": [],
   "source": [
    "def quaternion_to_euler(x, y, z, w):\n",
    "    \"\"\"Copied from stackoverflow: https://stackoverflow.com/questions/53033620/how-to-convert-euler-angles-to-quaternions-and-get-the-same-euler-angles-back-fr?rq=1\n",
    "    \n",
    "    Returns the angles in degrees (not radians)\"\"\"\n",
    "    t0 = +2.0 * (w * x + y * z)\n",
    "    t1 = +1.0 - 2.0 * (x * x + y * y)\n",
    "    X = math.degrees(math.atan2(t0, t1))\n",
    "\n",
    "    t2 = +2.0 * (w * y - z * x)\n",
    "    t2 = +1.0 if t2 > +1.0 else t2\n",
    "    t2 = -1.0 if t2 < -1.0 else t2\n",
    "    Y = math.degrees(math.asin(t2))\n",
    "\n",
    "    t3 = +2.0 * (w * z + x * y)\n",
    "    t4 = +1.0 - 2.0 * (y * y + z * z)\n",
    "    Z = math.degrees(math.atan2(t3, t4))\n",
    "\n",
    "    return X, Y, Z "
   ]
  },
  {
   "cell_type": "code",
   "execution_count": 3,
   "metadata": {},
   "outputs": [],
   "source": [
    "def read_radar_points(filename):\n",
    "    # Read the CSV\n",
    "    with open(filename) as txt: \n",
    "        lines = [line for line in txt]\n",
    "    lines = lines[2:]\n",
    "\n",
    "    # Go through all radar points and give them an RGB color\n",
    "    xyz = list()\n",
    "    for line in lines: \n",
    "        x, y, z, vr,mag = line.split(\" \")\n",
    "        vr = (float(vr)+5.0)/10.0\n",
    "        r,g,b,alpha = plt.cm.brg(vr)\n",
    "        xyz.append([x,y,z, r,g,b])\n",
    "    radarpoints = np.array(xyz, dtype=np.float32)\n",
    "\n",
    "    return radarpoints\n",
    "\n",
    "def read_lidar_points(filename):\n",
    "    # Read the CSV\n",
    "    with open(filename) as txt: \n",
    "        lines = [line for line in txt]\n",
    "    lines = lines[2:]\n",
    "\n",
    "    # Go through all lidar points and give them an RGB color based on their reflectivity\n",
    "    xyz = list()\n",
    "    for line in lines: \n",
    "        X, Y, Z, Intensity, LaserID, T, Reflectivity, Noise, Range = line.split(\" \")\n",
    "        Reflectivity = np.clip(float(Reflectivity)/100.0, 0.0, 255.0)\n",
    "        Reflectivity /= 255.0\n",
    "        r,g,b,alpha = plt.cm.binary(Reflectivity)\n",
    "        \n",
    "        xyz.append([X,Y,Z, r,g,b])\n",
    "    lidarpoints = np.array(xyz, dtype=np.float32)\n",
    "    return lidarpoints\n"
   ]
  },
  {
   "cell_type": "code",
   "execution_count": 4,
   "metadata": {},
   "outputs": [],
   "source": [
    "for file in [\"000000.txt\", \"000001.txt\", \"000002.txt\", \"000003.txt\", \"000004.txt\"]:\n",
    "    radarpoints = read_radar_points(folder_radar + file)\n",
    "    lidarpoints = read_lidar_points(folder_lidar + file)\n",
    "    \n",
    "    # Transform the lidar points to the radar space\n",
    "    # Note that we want to keep the correct colours... \n",
    "    backup = lidarpoints.copy()\n",
    "    lidarpoints = lidarpoints[:,:4]\n",
    "    lidarpoints[:,3] = 0.0\n",
    "    lidarpoints = np.dot(lidarpoints, np.transpose(lidar_to_radar))\n",
    "    backup[:,:3] = lidarpoints[:,:3]\n",
    "    lidarpoints = backup\n",
    "\n",
    "    # Combine all lidar and radar points in one pointcloud\n",
    "    combined = np.vstack((lidarpoints, radarpoints))\n",
    "    \n",
    "    # Switch dimensions around for better visualization in Three.js\n",
    "    combined = combined[:,[0,2,1,3,4,5]]\n",
    "\n",
    "    # Rescale the pointcloud so we can easily walk through it\n",
    "    combined[:,:3] *= 0.1\n",
    "\n",
    "    # Save to file ready to upload\n",
    "    combined.byteswap().tofile('../astyx'+file+'.xyzrgb')\n",
    "    \n",
    "    # Load the bounding boxes to add them to the visualisation. \n",
    "    with open(folder_bbox+file.split('.')[0]+'.json') as json_file:\n",
    "        data = json.load(json_file)\n",
    "    \n",
    "    # Load the bounding box\n",
    "    towrite = list()\n",
    "    for objecttest in data['objects']:\n",
    "        ob = list()\n",
    "        x,y,z = objecttest['center3d']\n",
    "        ob.extend([x,z,y]) # This is the position of the object\n",
    "        x,y,z = objecttest['dimension3d']\n",
    "        ob.extend([x,z,y]) # This is the width-lenght-height\n",
    "        \n",
    "        x,y,z = quaternion_to_euler(*objecttest['orientation_quat'])\n",
    "        ob.extend([0.0,math.radians(x),0.0]) # This is the rotation. We only rotate around the y axis in vr\n",
    "        ob.extend([0.9, 1.0, 0.5, 0.5]) # This is the colour \n",
    "        towrite.append(ob)\n",
    "    bboxes = np.array(towrite, dtype=np.float32)\n",
    "    bboxes[:,:6] *= 0.1 # Resize the locations and dimensions so you can walk through it. \n",
    "\n",
    "    bboxes.astype(np.float32).byteswap().tofile('../astyxbbox'+file+'.bbox')   "
   ]
  },
  {
   "cell_type": "code",
   "execution_count": null,
   "metadata": {},
   "outputs": [],
   "source": []
  },
  {
   "cell_type": "code",
   "execution_count": 5,
   "metadata": {
    "scrolled": false
   },
   "outputs": [
    {
     "name": "stdout",
     "output_type": "stream",
     "text": [
      "http://127.0.0.1:8000/oculus.html?jsonb64=eyJwb2ludHMiOiBbeyJzb3VyY2UiOiAidXJsIiwgInVybCI6ICJhc3R5eDAwMDAwMC50eHQueHl6cmdiIiwgInR5cGUiOiAiWFlaUkdCIn1dLCAiYmJveGVzIjogW3sic291cmNlIjogInVybCIsICJ1cmwiOiAiYXN0eXhiYm94MDAwMDAwLnR4dC5iYm94In1dfQ==\n"
     ]
    },
    {
     "data": {
      "text/html": [
       "<iframe src=http://127.0.0.1:8000/oculus.html?jsonb64=eyJwb2ludHMiOiBbeyJzb3VyY2UiOiAidXJsIiwgInVybCI6ICJhc3R5eDAwMDAwMC50eHQueHl6cmdiIiwgInR5cGUiOiAiWFlaUkdCIn1dLCAiYmJveGVzIjogW3sic291cmNlIjogInVybCIsICJ1cmwiOiAiYXN0eXhiYm94MDAwMDAwLnR4dC5iYm94In1dfQ== width=1000 height=550></iframe>"
      ],
      "text/plain": [
       "<IPython.core.display.HTML object>"
      ]
     },
     "execution_count": 5,
     "metadata": {},
     "output_type": "execute_result"
    }
   ],
   "source": [
    "# Visualise one example to verify it all works. \n",
    "i = 0\n",
    "todisplay = {\n",
    "    \"points\": [\n",
    "        {\n",
    "            \"source\": \"url\",\n",
    "            \"url\": \"astyx00000\"+str(i)+\".txt.xyzrgb\",\n",
    "            \"type\": \"XYZRGB\",\n",
    "        }\n",
    "    ],\n",
    "    \"bboxes\": [\n",
    "        {     \n",
    "            \"source\": \"url\",\n",
    "            \"url\": \"astyxbbox00000\"+str(i)+\".txt.bbox\"\n",
    "        }\n",
    "    ]\n",
    "}\n",
    "\n",
    "data = json.dumps(todisplay)\n",
    "data = base64.urlsafe_b64encode(json.dumps(todisplay).encode())\n",
    "\n",
    "url = 'http://127.0.0.1:8000/oculus.html?jsonb64=' + data.decode('ascii')\n",
    "print(url)\n",
    "iframe = '<iframe src=' + url + ' width=1000 height=550></iframe>'\n",
    "IPython.display.HTML(iframe)\n",
    "    \n"
   ]
  },
  {
   "cell_type": "code",
   "execution_count": 6,
   "metadata": {},
   "outputs": [
    {
     "name": "stdout",
     "output_type": "stream",
     "text": [
      "http://immersivepoints.com/oculus.html?jsonb64=eyJwb2ludHMiOiBbeyJzb3VyY2UiOiAidXJsIiwgInVybCI6ICJodHRwczovL3BvaW50Y2xvdWR2aXN1YWxpemF0aW9uLnMzLmV1LWNlbnRyYWwtMS5hbWF6b25hd3MuY29tL2FzdHl4L2FzdHl4MDAwMDAwLnR4dC54eXpyZ2IiLCAidHlwZSI6ICJYWVpSR0IifV0sICJiYm94ZXMiOiBbeyJzb3VyY2UiOiAidXJsIiwgInVybCI6ICJodHRwczovL3BvaW50Y2xvdWR2aXN1YWxpemF0aW9uLnMzLmV1LWNlbnRyYWwtMS5hbWF6b25hd3MuY29tL2FzdHl4L2FzdHl4YmJveDAwMDAwMC50eHQuYmJveCJ9XX0=\n",
      "http://immersivepoints.com/oculus.html?jsonb64=eyJwb2ludHMiOiBbeyJzb3VyY2UiOiAidXJsIiwgInVybCI6ICJodHRwczovL3BvaW50Y2xvdWR2aXN1YWxpemF0aW9uLnMzLmV1LWNlbnRyYWwtMS5hbWF6b25hd3MuY29tL2FzdHl4L2FzdHl4MDAwMDAxLnR4dC54eXpyZ2IiLCAidHlwZSI6ICJYWVpSR0IifV0sICJiYm94ZXMiOiBbeyJzb3VyY2UiOiAidXJsIiwgInVybCI6ICJodHRwczovL3BvaW50Y2xvdWR2aXN1YWxpemF0aW9uLnMzLmV1LWNlbnRyYWwtMS5hbWF6b25hd3MuY29tL2FzdHl4L2FzdHl4YmJveDAwMDAwMS50eHQuYmJveCJ9XX0=\n",
      "http://immersivepoints.com/oculus.html?jsonb64=eyJwb2ludHMiOiBbeyJzb3VyY2UiOiAidXJsIiwgInVybCI6ICJodHRwczovL3BvaW50Y2xvdWR2aXN1YWxpemF0aW9uLnMzLmV1LWNlbnRyYWwtMS5hbWF6b25hd3MuY29tL2FzdHl4L2FzdHl4MDAwMDAyLnR4dC54eXpyZ2IiLCAidHlwZSI6ICJYWVpSR0IifV0sICJiYm94ZXMiOiBbeyJzb3VyY2UiOiAidXJsIiwgInVybCI6ICJodHRwczovL3BvaW50Y2xvdWR2aXN1YWxpemF0aW9uLnMzLmV1LWNlbnRyYWwtMS5hbWF6b25hd3MuY29tL2FzdHl4L2FzdHl4YmJveDAwMDAwMi50eHQuYmJveCJ9XX0=\n",
      "http://immersivepoints.com/oculus.html?jsonb64=eyJwb2ludHMiOiBbeyJzb3VyY2UiOiAidXJsIiwgInVybCI6ICJodHRwczovL3BvaW50Y2xvdWR2aXN1YWxpemF0aW9uLnMzLmV1LWNlbnRyYWwtMS5hbWF6b25hd3MuY29tL2FzdHl4L2FzdHl4MDAwMDAzLnR4dC54eXpyZ2IiLCAidHlwZSI6ICJYWVpSR0IifV0sICJiYm94ZXMiOiBbeyJzb3VyY2UiOiAidXJsIiwgInVybCI6ICJodHRwczovL3BvaW50Y2xvdWR2aXN1YWxpemF0aW9uLnMzLmV1LWNlbnRyYWwtMS5hbWF6b25hd3MuY29tL2FzdHl4L2FzdHl4YmJveDAwMDAwMy50eHQuYmJveCJ9XX0=\n",
      "http://immersivepoints.com/oculus.html?jsonb64=eyJwb2ludHMiOiBbeyJzb3VyY2UiOiAidXJsIiwgInVybCI6ICJodHRwczovL3BvaW50Y2xvdWR2aXN1YWxpemF0aW9uLnMzLmV1LWNlbnRyYWwtMS5hbWF6b25hd3MuY29tL2FzdHl4L2FzdHl4MDAwMDA0LnR4dC54eXpyZ2IiLCAidHlwZSI6ICJYWVpSR0IifV0sICJiYm94ZXMiOiBbeyJzb3VyY2UiOiAidXJsIiwgInVybCI6ICJodHRwczovL3BvaW50Y2xvdWR2aXN1YWxpemF0aW9uLnMzLmV1LWNlbnRyYWwtMS5hbWF6b25hd3MuY29tL2FzdHl4L2FzdHl4YmJveDAwMDAwNC50eHQuYmJveCJ9XX0=\n"
     ]
    }
   ],
   "source": [
    "# Generate multiple links using the data in my S3 public bucket. \n",
    "    \n",
    "for i in range(5):\n",
    "    todisplay = {\n",
    "        \"points\": [\n",
    "            {\n",
    "                \"source\": \"url\",\n",
    "                \"url\": \"https://pointcloudvisualization.s3.eu-central-1.amazonaws.com/astyx/astyx00000\"+str(i)+\".txt.xyzrgb\",\n",
    "                \"type\": \"XYZRGB\",\n",
    "            }\n",
    "        ],\n",
    "        \"bboxes\": [\n",
    "            {     \n",
    "                \"source\": \"url\",\n",
    "                \"url\": \"https://pointcloudvisualization.s3.eu-central-1.amazonaws.com/astyx/astyxbbox00000\"+str(i)+\".txt.bbox\",\n",
    "            }\n",
    "        ]\n",
    "    }\n",
    "\n",
    "    data = json.dumps(todisplay)\n",
    "    data = base64.urlsafe_b64encode(json.dumps(todisplay).encode())\n",
    "\n",
    "    url = 'http://immersivepoints.com/oculus.html?jsonb64=' + data.decode('ascii')\n",
    "    print(url)\n",
    "    iframe = '<iframe src=' + url + ' width=1000 height=550></iframe>'\n",
    "    IPython.display.HTML(iframe)\n",
    "    \n"
   ]
  },
  {
   "cell_type": "code",
   "execution_count": null,
   "metadata": {},
   "outputs": [],
   "source": []
  }
 ],
 "metadata": {
  "kernelspec": {
   "display_name": "Python 3",
   "language": "python",
   "name": "python3"
  },
  "language_info": {
   "codemirror_mode": {
    "name": "ipython",
    "version": 3
   },
   "file_extension": ".py",
   "mimetype": "text/x-python",
   "name": "python",
   "nbconvert_exporter": "python",
   "pygments_lexer": "ipython3",
   "version": "3.7.2"
  }
 },
 "nbformat": 4,
 "nbformat_minor": 2
}
