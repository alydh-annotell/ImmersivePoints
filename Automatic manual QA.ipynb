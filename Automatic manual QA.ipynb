{
 "cells": [
  {
   "cell_type": "markdown",
   "metadata": {},
   "source": [
    "# Automatic manual QA\n",
    "When making changes to the page itself it's good to know that current files still work. That's why this notebook automatically renders some examples to verify that everything is still fine. "
   ]
  },
  {
   "cell_type": "code",
   "execution_count": 1,
   "metadata": {},
   "outputs": [],
   "source": [
    "import IPython\n",
    "import json\n",
    "import base64\n",
    "import numpy as np"
   ]
  },
  {
   "cell_type": "markdown",
   "metadata": {},
   "source": [
    "# No input to the URL\n",
    "Should display a nice example of what can be achieved"
   ]
  },
  {
   "cell_type": "code",
   "execution_count": 2,
   "metadata": {
    "scrolled": true
   },
   "outputs": [
    {
     "name": "stderr",
     "output_type": "stream",
     "text": [
      "/Users/rmeertens/opt/miniconda3/lib/python3.8/site-packages/IPython/core/display.py:701: UserWarning: Consider using IPython.display.IFrame instead\n",
      "  warnings.warn(\"Consider using IPython.display.IFrame instead\")\n"
     ]
    },
    {
     "data": {
      "text/html": [
       "<iframe src=http://127.0.0.1:8000/oculus.html width=1000 height=550></iframe>"
      ],
      "text/plain": [
       "<IPython.core.display.HTML object>"
      ]
     },
     "execution_count": 2,
     "metadata": {},
     "output_type": "execute_result"
    }
   ],
   "source": [
    "url = 'http://127.0.0.1:8000/oculus.html'\n",
    "iframe = '<iframe src=' + url + ' width=1000 height=550></iframe>'\n",
    "IPython.display.HTML(iframe)"
   ]
  },
  {
   "cell_type": "markdown",
   "metadata": {},
   "source": [
    "# Set name to XYZ RGB file\n",
    "Should show a pointcloud with XYZ RGB points"
   ]
  },
  {
   "cell_type": "code",
   "execution_count": 3,
   "metadata": {},
   "outputs": [
    {
     "data": {
      "text/html": [
       "<iframe src=http://127.0.0.1:8000/oculus.html?name=236bcdf2-0376-4b8b-b76b-c15e58e75ecc.xyzrgb width=1000 height=550></iframe>"
      ],
      "text/plain": [
       "<IPython.core.display.HTML object>"
      ]
     },
     "execution_count": 3,
     "metadata": {},
     "output_type": "execute_result"
    }
   ],
   "source": [
    "url = 'http://127.0.0.1:8000/oculus.html?name=236bcdf2-0376-4b8b-b76b-c15e58e75ecc.xyzrgb'\n",
    "iframe = '<iframe src=' + url + ' width=1000 height=550></iframe>'\n",
    "IPython.display.HTML(iframe)"
   ]
  },
  {
   "cell_type": "markdown",
   "metadata": {},
   "source": [
    "# Input a JSON file with XYZI file\n",
    "Should show a pointcloud with XYZ with intensity points"
   ]
  },
  {
   "cell_type": "code",
   "execution_count": 4,
   "metadata": {},
   "outputs": [
    {
     "data": {
      "text/html": [
       "<iframe src=http://127.0.0.1:8000/oculus.html?jsonb64=eyJwb2ludHMiOiBbeyJzb3VyY2UiOiAidXJsIiwgInVybCI6ICJodHRwczovL3BvaW50Y2xvdWR2aXN1YWxpemF0aW9uLnMzLmV1LWNlbnRyYWwtMS5hbWF6b25hd3MuY29tL2UyNjUyYWFiLTRhY2UtNGEwOS04NmY0LTM3NGIyM2NiNjc3Yi54eXppIiwgInR5cGUiOiAiWFlaSSJ9XX0= width=1000 height=550></iframe>"
      ],
      "text/plain": [
       "<IPython.core.display.HTML object>"
      ]
     },
     "execution_count": 4,
     "metadata": {},
     "output_type": "execute_result"
    }
   ],
   "source": [
    "todisplay = {\n",
    "    \"points\": [\n",
    "        {\n",
    "            \"source\": \"url\",\n",
    "            \"url\": \"https://pointcloudvisualization.s3.eu-central-1.amazonaws.com/e2652aab-4ace-4a09-86f4-374b23cb677b.xyzi\",\n",
    "            \"type\": \"XYZI\",\n",
    "        }\n",
    "    ]\n",
    "}\n",
    "\n",
    "data = json.dumps(todisplay)\n",
    "data = base64.urlsafe_b64encode(json.dumps(todisplay).encode())\n",
    "\n",
    "url = 'http://127.0.0.1:8000/oculus.html?jsonb64=' + data.decode('ascii')\n",
    "iframe = '<iframe src=' + url + ' width=1000 height=550></iframe>'\n",
    "IPython.display.HTML(iframe)\n"
   ]
  },
  {
   "cell_type": "markdown",
   "metadata": {},
   "source": [
    "# Input a JSON file with Base64 XYZI points\n",
    "Should show a pointcloud with XYZ with intensity points"
   ]
  },
  {
   "cell_type": "code",
   "execution_count": 5,
   "metadata": {},
   "outputs": [
    {
     "data": {
      "text/html": [
       "<iframe src=http://127.0.0.1:8000/oculus.html?jsonb64=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 width=1000 height=550></iframe>"
      ],
      "text/plain": [
       "<IPython.core.display.HTML object>"
      ]
     },
     "execution_count": 5,
     "metadata": {},
     "output_type": "execute_result"
    }
   ],
   "source": [
    "randompoints = np.random.rand(250,4)\n",
    "\n",
    "swapped_bytes = randompoints.astype(np.float32).byteswap()\n",
    "base_64_string = base64.b64encode(swapped_bytes)\n",
    "\n",
    "\n",
    "todisplay = {\n",
    "    \"points\": [\n",
    "        {\n",
    "            \"source\": \"base64\",\n",
    "            \"base64\": str(base_64_string)[2:-1],\n",
    "            \"type\": \"XYZI\"\n",
    "        }\n",
    "    ]\n",
    "}\n",
    "\n",
    "data = json.dumps(todisplay)\n",
    "data = base64.urlsafe_b64encode(json.dumps(todisplay).encode())\n",
    "\n",
    "url = 'http://127.0.0.1:8000/oculus.html?jsonb64=' + data.decode('ascii')\n",
    "# print(url)\n",
    "iframe = '<iframe src=' + url + ' width=1000 height=550></iframe>'\n",
    "IPython.display.HTML(iframe)"
   ]
  },
  {
   "cell_type": "code",
   "execution_count": 6,
   "metadata": {},
   "outputs": [
    {
     "name": "stdout",
     "output_type": "stream",
     "text": [
      "http://127.0.0.1:8000/oculus.html?jsonb64=eyJwb2ludHMiOiBbeyJzb3VyY2UiOiAidXJsIiwgInVybCI6ICJodHRwczovL3BvaW50Y2xvdWR2aXN1YWxpemF0aW9uLnMzLmV1LWNlbnRyYWwtMS5hbWF6b25hd3MuY29tL2NhcnM1Lnh5emkiLCAidHlwZSI6ICJYWVpJIn1dLCAiYmJveGVzIjogW3sic291cmNlIjogInVybCIsICJ1cmwiOiAiaHR0cHM6Ly9wb2ludGNsb3VkdmlzdWFsaXphdGlvbi5zMy5ldS1jZW50cmFsLTEuYW1hem9uYXdzLmNvbS9jYXJzNWJveGVzLm5weSJ9XX0=\n"
     ]
    },
    {
     "data": {
      "text/html": [
       "<iframe src=http://127.0.0.1:8000/oculus.html?jsonb64=eyJwb2ludHMiOiBbeyJzb3VyY2UiOiAidXJsIiwgInVybCI6ICJodHRwczovL3BvaW50Y2xvdWR2aXN1YWxpemF0aW9uLnMzLmV1LWNlbnRyYWwtMS5hbWF6b25hd3MuY29tL2NhcnM1Lnh5emkiLCAidHlwZSI6ICJYWVpJIn1dLCAiYmJveGVzIjogW3sic291cmNlIjogInVybCIsICJ1cmwiOiAiaHR0cHM6Ly9wb2ludGNsb3VkdmlzdWFsaXphdGlvbi5zMy5ldS1jZW50cmFsLTEuYW1hem9uYXdzLmNvbS9jYXJzNWJveGVzLm5weSJ9XX0= width=1000 height=550></iframe>"
      ],
      "text/plain": [
       "<IPython.core.display.HTML object>"
      ]
     },
     "execution_count": 6,
     "metadata": {},
     "output_type": "execute_result"
    }
   ],
   "source": [
    "randompoints = np.random.rand(250,4)\n",
    "\n",
    "swapped_bytes = randompoints.astype(np.float32).byteswap()\n",
    "base_64_string = base64.b64encode(swapped_bytes)\n",
    "\n",
    "\n",
    "todisplay = {\n",
    "    \"points\": [\n",
    "        {\n",
    "            \"source\": \"url\",\n",
    "            \"url\": \"https://pointcloudvisualization.s3.eu-central-1.amazonaws.com/cars5.xyzi\",\n",
    "            \"type\": \"XYZI\"\n",
    "        }\n",
    "    ],\n",
    "    \"bboxes\": [\n",
    "        {     \n",
    "            \"source\": \"url\",\n",
    "            \"url\": \"https://pointcloudvisualization.s3.eu-central-1.amazonaws.com/cars5boxes.npy\"\n",
    "        }\n",
    "    ]\n",
    "}\n",
    "\n",
    "data = json.dumps(todisplay)\n",
    "data = base64.urlsafe_b64encode(json.dumps(todisplay).encode())\n",
    "\n",
    "url = 'http://127.0.0.1:8000/oculus.html?jsonb64=' + data.decode('ascii')\n",
    "print(url)\n",
    "iframe = '<iframe src=' + url + ' width=1000 height=550></iframe>'\n",
    "IPython.display.HTML(iframe)"
   ]
  },
  {
   "cell_type": "code",
   "execution_count": 7,
   "metadata": {},
   "outputs": [],
   "source": [
    "# 3D objects"
   ]
  },
  {
   "cell_type": "code",
   "execution_count": 8,
   "metadata": {},
   "outputs": [
    {
     "name": "stdout",
     "output_type": "stream",
     "text": [
      "http://127.0.0.1:8000/oculus.html?jsonb64=eyJwb2ludHMiOiBbeyJzb3VyY2UiOiAidXJsIiwgInVybCI6ICJodHRwczovL3BvaW50Y2xvdWR2aXN1YWxpemF0aW9uLnMzLmV1LWNlbnRyYWwtMS5hbWF6b25hd3MuY29tL2UyNjUyYWFiLTRhY2UtNGEwOS04NmY0LTM3NGIyM2NiNjc3Yi54eXppIiwgInR5cGUiOiAiWFlaSSJ9XSwgIm9iamVjdHMiOiBbeyJzb3VyY2UiOiAidXJsIiwgInVybCI6ICJob25kYS5nbGIiLCAicG9zaXRpb24iOiBbMS4wLCAyLjAsIDMuMF0sICJyb3RhdGlvbiI6IFswLjAsIC0xLjU1LCAwLjBdLCAic2NhbGUiOiBbMC4xLCAwLjEsIDAuMV19XX0=\n"
     ]
    },
    {
     "data": {
      "text/html": [
       "<iframe src=http://127.0.0.1:8000/oculus.html?jsonb64=eyJwb2ludHMiOiBbeyJzb3VyY2UiOiAidXJsIiwgInVybCI6ICJodHRwczovL3BvaW50Y2xvdWR2aXN1YWxpemF0aW9uLnMzLmV1LWNlbnRyYWwtMS5hbWF6b25hd3MuY29tL2UyNjUyYWFiLTRhY2UtNGEwOS04NmY0LTM3NGIyM2NiNjc3Yi54eXppIiwgInR5cGUiOiAiWFlaSSJ9XSwgIm9iamVjdHMiOiBbeyJzb3VyY2UiOiAidXJsIiwgInVybCI6ICJob25kYS5nbGIiLCAicG9zaXRpb24iOiBbMS4wLCAyLjAsIDMuMF0sICJyb3RhdGlvbiI6IFswLjAsIC0xLjU1LCAwLjBdLCAic2NhbGUiOiBbMC4xLCAwLjEsIDAuMV19XX0= width=1000 height=550></iframe>"
      ],
      "text/plain": [
       "<IPython.core.display.HTML object>"
      ]
     },
     "execution_count": 8,
     "metadata": {},
     "output_type": "execute_result"
    }
   ],
   "source": [
    "todisplay = {\n",
    "    \"points\": [\n",
    "        {\n",
    "            \"source\": \"url\",\n",
    "            \"url\": \"https://pointcloudvisualization.s3.eu-central-1.amazonaws.com/e2652aab-4ace-4a09-86f4-374b23cb677b.xyzi\",\n",
    "            \"type\": \"XYZI\",\n",
    "        }\n",
    "    ], \n",
    "    \"objects\": [\n",
    "        {\n",
    "            \"source\": \"url\", \n",
    "            \"url\": \"honda.glb\", \n",
    "            \"position\": [1.0, 2.0, 3.0], \n",
    "            \"rotation\": [0.0, -1.55, 0.0], \n",
    "            \"scale\": [0.1, 0.1, 0.1], \n",
    "        }\n",
    "    ]\n",
    "}\n",
    "\n",
    "data = json.dumps(todisplay)\n",
    "data = base64.urlsafe_b64encode(json.dumps(todisplay).encode())\n",
    "\n",
    "url = 'http://127.0.0.1:8000/oculus.html?jsonb64=' + data.decode('ascii')\n",
    "print(url)\n",
    "iframe = '<iframe src=' + url + ' width=1000 height=550></iframe>'\n",
    "IPython.display.HTML(iframe)\n"
   ]
  },
  {
   "cell_type": "code",
   "execution_count": null,
   "metadata": {},
   "outputs": [],
   "source": []
  }
 ],
 "metadata": {
  "kernelspec": {
   "display_name": "Python 3",
   "language": "python",
   "name": "python3"
  },
  "language_info": {
   "codemirror_mode": {
    "name": "ipython",
    "version": 3
   },
   "file_extension": ".py",
   "mimetype": "text/x-python",
   "name": "python",
   "nbconvert_exporter": "python",
   "pygments_lexer": "ipython3",
   "version": "3.8.5"
  }
 },
 "nbformat": 4,
 "nbformat_minor": 2
}
