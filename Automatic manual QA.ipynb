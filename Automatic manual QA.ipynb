{
 "cells": [
  {
   "cell_type": "markdown",
   "metadata": {},
   "source": [
    "# Automatic manual QA\n",
    "When making changes to the page itself it's good to know that current files still work. That's why this notebook automatically renders some examples to verify that everything is still fine. "
   ]
  },
  {
   "cell_type": "code",
   "execution_count": 1,
   "metadata": {},
   "outputs": [],
   "source": [
    "import IPython\n",
    "import json\n",
    "import base64\n",
    "import numpy as np"
   ]
  },
  {
   "cell_type": "markdown",
   "metadata": {},
   "source": [
    "# No input to the URL\n",
    "Should display a nice example of what can be achieved"
   ]
  },
  {
   "cell_type": "code",
   "execution_count": 2,
   "metadata": {
    "scrolled": true
   },
   "outputs": [
    {
     "data": {
      "text/html": [
       "<iframe src=http://127.0.0.1:8000/oculus.html width=1000 height=550></iframe>"
      ],
      "text/plain": [
       "<IPython.core.display.HTML object>"
      ]
     },
     "execution_count": 2,
     "metadata": {},
     "output_type": "execute_result"
    }
   ],
   "source": [
    "url = 'http://127.0.0.1:8000/oculus.html'\n",
    "iframe = '<iframe src=' + url + ' width=1000 height=550></iframe>'\n",
    "IPython.display.HTML(iframe)"
   ]
  },
  {
   "cell_type": "markdown",
   "metadata": {},
   "source": [
    "# Set name to XYZ RGB file\n",
    "Should show a pointcloud with XYZ RGB points"
   ]
  },
  {
   "cell_type": "code",
   "execution_count": 3,
   "metadata": {},
   "outputs": [
    {
     "data": {
      "text/html": [
       "<iframe src=http://127.0.0.1:8000/oculus.html?name=236bcdf2-0376-4b8b-b76b-c15e58e75ecc.xyzrgb width=1000 height=550></iframe>"
      ],
      "text/plain": [
       "<IPython.core.display.HTML object>"
      ]
     },
     "execution_count": 3,
     "metadata": {},
     "output_type": "execute_result"
    }
   ],
   "source": [
    "url = 'http://127.0.0.1:8000/oculus.html?name=236bcdf2-0376-4b8b-b76b-c15e58e75ecc.xyzrgb'\n",
    "iframe = '<iframe src=' + url + ' width=1000 height=550></iframe>'\n",
    "IPython.display.HTML(iframe)"
   ]
  },
  {
   "cell_type": "markdown",
   "metadata": {},
   "source": [
    "# Input a JSON file with XYZI file\n",
    "Should show a pointcloud with XYZ with intensity points"
   ]
  },
  {
   "cell_type": "code",
   "execution_count": 4,
   "metadata": {},
   "outputs": [
    {
     "data": {
      "text/html": [
       "<iframe src=http://127.0.0.1:8000/oculus.html?jsonb64=eyJwb2ludHMiOiBbeyJzb3VyY2UiOiAidXJsIiwgInVybCI6ICJodHRwczovL3BvaW50Y2xvdWR2aXN1YWxpemF0aW9uLnMzLmV1LWNlbnRyYWwtMS5hbWF6b25hd3MuY29tL2UyNjUyYWFiLTRhY2UtNGEwOS04NmY0LTM3NGIyM2NiNjc3Yi54eXppIiwgInR5cGUiOiAiWFlaSSJ9XX0= width=1000 height=550></iframe>"
      ],
      "text/plain": [
       "<IPython.core.display.HTML object>"
      ]
     },
     "execution_count": 4,
     "metadata": {},
     "output_type": "execute_result"
    }
   ],
   "source": [
    "todisplay = {\n",
    "    \"points\": [\n",
    "        {\n",
    "            \"source\": \"url\",\n",
    "            \"url\": \"https://pointcloudvisualization.s3.eu-central-1.amazonaws.com/e2652aab-4ace-4a09-86f4-374b23cb677b.xyzi\",\n",
    "            \"type\": \"XYZI\",\n",
    "        }\n",
    "    ]\n",
    "}\n",
    "\n",
    "data = json.dumps(todisplay)\n",
    "data = base64.urlsafe_b64encode(json.dumps(todisplay).encode())\n",
    "\n",
    "url = 'http://127.0.0.1:8000/oculus.html?jsonb64=' + data.decode('ascii')\n",
    "iframe = '<iframe src=' + url + ' width=1000 height=550></iframe>'\n",
    "IPython.display.HTML(iframe)\n"
   ]
  },
  {
   "cell_type": "markdown",
   "metadata": {},
   "source": [
    "# Input a JSON file with Base64 XYZI points\n",
    "Should show a pointcloud with XYZ with intensity points"
   ]
  },
  {
   "cell_type": "code",
   "execution_count": 5,
   "metadata": {},
   "outputs": [
    {
     "data": {
      "text/html": [
       "<iframe src=http://127.0.0.1:8000/oculus.html?jsonb64=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 width=1000 height=550></iframe>"
      ],
      "text/plain": [
       "<IPython.core.display.HTML object>"
      ]
     },
     "execution_count": 5,
     "metadata": {},
     "output_type": "execute_result"
    }
   ],
   "source": [
    "randompoints = np.random.rand(250,4)\n",
    "\n",
    "swapped_bytes = randompoints.astype(np.float32).byteswap()\n",
    "base_64_string = base64.b64encode(swapped_bytes)\n",
    "\n",
    "\n",
    "todisplay = {\n",
    "    \"points\": [\n",
    "        {\n",
    "            \"source\": \"base64\",\n",
    "            \"base64\": str(base_64_string)[2:-1],\n",
    "            \"type\": \"XYZI\"\n",
    "        }\n",
    "    ]\n",
    "}\n",
    "\n",
    "data = json.dumps(todisplay)\n",
    "data = base64.urlsafe_b64encode(json.dumps(todisplay).encode())\n",
    "\n",
    "url = 'http://127.0.0.1:8000/oculus.html?jsonb64=' + data.decode('ascii')\n",
    "# print(url)\n",
    "iframe = '<iframe src=' + url + ' width=1000 height=550></iframe>'\n",
    "IPython.display.HTML(iframe)"
   ]
  },
  {
   "cell_type": "code",
   "execution_count": 6,
   "metadata": {},
   "outputs": [
    {
     "name": "stdout",
     "output_type": "stream",
     "text": [
      "http://127.0.0.1:8000/oculus.html?jsonb64=eyJwb2ludHMiOiBbeyJzb3VyY2UiOiAidXJsIiwgInVybCI6ICJodHRwczovL3BvaW50Y2xvdWR2aXN1YWxpemF0aW9uLnMzLmV1LWNlbnRyYWwtMS5hbWF6b25hd3MuY29tL2NhcnM1Lm5weSIsICJ0eXBlIjogIlhZWkkifV0sICJiYm94ZXMiOiBbeyJzb3VyY2UiOiAidXJsIiwgInVybCI6ICJodHRwczovL3BvaW50Y2xvdWR2aXN1YWxpemF0aW9uLnMzLmV1LWNlbnRyYWwtMS5hbWF6b25hd3MuY29tL2NhcnM1Ym94ZXMubnB5In1dfQ==\n"
     ]
    },
    {
     "data": {
      "text/html": [
       "<iframe src=http://127.0.0.1:8000/oculus.html?jsonb64=eyJwb2ludHMiOiBbeyJzb3VyY2UiOiAidXJsIiwgInVybCI6ICJodHRwczovL3BvaW50Y2xvdWR2aXN1YWxpemF0aW9uLnMzLmV1LWNlbnRyYWwtMS5hbWF6b25hd3MuY29tL2NhcnM1Lm5weSIsICJ0eXBlIjogIlhZWkkifV0sICJiYm94ZXMiOiBbeyJzb3VyY2UiOiAidXJsIiwgInVybCI6ICJodHRwczovL3BvaW50Y2xvdWR2aXN1YWxpemF0aW9uLnMzLmV1LWNlbnRyYWwtMS5hbWF6b25hd3MuY29tL2NhcnM1Ym94ZXMubnB5In1dfQ== width=1000 height=550></iframe>"
      ],
      "text/plain": [
       "<IPython.core.display.HTML object>"
      ]
     },
     "execution_count": 6,
     "metadata": {},
     "output_type": "execute_result"
    }
   ],
   "source": [
    "randompoints = np.random.rand(250,4)\n",
    "\n",
    "swapped_bytes = randompoints.astype(np.float32).byteswap()\n",
    "base_64_string = base64.b64encode(swapped_bytes)\n",
    "\n",
    "\n",
    "todisplay = {\n",
    "    \"points\": [\n",
    "        {\n",
    "            \"source\": \"url\",\n",
    "            \"url\": \"https://pointcloudvisualization.s3.eu-central-1.amazonaws.com/cars5.xyzi\",\n",
    "            \"type\": \"XYZI\"\n",
    "        }\n",
    "    ],\n",
    "    \"bboxes\": [\n",
    "        {     \n",
    "            \"source\": \"url\",\n",
    "            \"url\": \"https://pointcloudvisualization.s3.eu-central-1.amazonaws.com/cars5boxes.npy\"\n",
    "        }\n",
    "    ]\n",
    "}\n",
    "\n",
    "data = json.dumps(todisplay)\n",
    "data = base64.urlsafe_b64encode(json.dumps(todisplay).encode())\n",
    "\n",
    "url = 'http://127.0.0.1:8000/oculus.html?jsonb64=' + data.decode('ascii')\n",
    "print(url)\n",
    "iframe = '<iframe src=' + url + ' width=1000 height=550></iframe>'\n",
    "IPython.display.HTML(iframe)"
   ]
  },
  {
   "cell_type": "code",
   "execution_count": null,
   "metadata": {},
   "outputs": [],
   "source": []
  }
 ],
 "metadata": {
  "kernelspec": {
   "display_name": "Python 3",
   "language": "python",
   "name": "python3"
  },
  "language_info": {
   "codemirror_mode": {
    "name": "ipython",
    "version": 3
   },
   "file_extension": ".py",
   "mimetype": "text/x-python",
   "name": "python",
   "nbconvert_exporter": "python",
   "pygments_lexer": "ipython3",
   "version": "3.7.2"
  }
 },
 "nbformat": 4,
 "nbformat_minor": 2
}
