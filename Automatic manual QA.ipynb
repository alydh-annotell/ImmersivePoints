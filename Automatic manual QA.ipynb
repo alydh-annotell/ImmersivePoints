{
 "cells": [
  {
   "cell_type": "markdown",
   "metadata": {},
   "source": [
    "# Automatic manual QA\n",
    "When making changes to the page itself it's good to know that current files still work. That's why this notebook automatically renders some examples to verify that everything is still fine. "
   ]
  },
  {
   "cell_type": "code",
   "execution_count": 1,
   "metadata": {},
   "outputs": [],
   "source": [
    "import IPython\n",
    "import json\n",
    "import base64\n",
    "import numpy as np"
   ]
  },
  {
   "cell_type": "markdown",
   "metadata": {},
   "source": [
    "# No input to the URL\n",
    "Should display a nice example of what can be achieved"
   ]
  },
  {
   "cell_type": "code",
   "execution_count": 2,
   "metadata": {
    "scrolled": true
   },
   "outputs": [
    {
     "data": {
      "text/html": [
       "<iframe src=http://127.0.0.1:8000/oculus.html width=1000 height=550></iframe>"
      ],
      "text/plain": [
       "<IPython.core.display.HTML object>"
      ]
     },
     "execution_count": 2,
     "metadata": {},
     "output_type": "execute_result"
    }
   ],
   "source": [
    "url = 'http://127.0.0.1:8000/oculus.html'\n",
    "iframe = '<iframe src=' + url + ' width=1000 height=550></iframe>'\n",
    "IPython.display.HTML(iframe)"
   ]
  },
  {
   "cell_type": "markdown",
   "metadata": {},
   "source": [
    "# Set name to XYZ RGB file\n",
    "Should show a pointcloud with XYZ RGB points"
   ]
  },
  {
   "cell_type": "code",
   "execution_count": 3,
   "metadata": {},
   "outputs": [
    {
     "data": {
      "text/html": [
       "<iframe src=http://127.0.0.1:8000/oculus.html?name=236bcdf2-0376-4b8b-b76b-c15e58e75ecc.xyzrgb width=1000 height=550></iframe>"
      ],
      "text/plain": [
       "<IPython.core.display.HTML object>"
      ]
     },
     "execution_count": 3,
     "metadata": {},
     "output_type": "execute_result"
    }
   ],
   "source": [
    "url = 'http://127.0.0.1:8000/oculus.html?name=236bcdf2-0376-4b8b-b76b-c15e58e75ecc.xyzrgb'\n",
    "iframe = '<iframe src=' + url + ' width=1000 height=550></iframe>'\n",
    "IPython.display.HTML(iframe)"
   ]
  },
  {
   "cell_type": "markdown",
   "metadata": {},
   "source": [
    "# Input a JSON file with XYZI file\n",
    "Should show a pointcloud with XYZ with intensity points"
   ]
  },
  {
   "cell_type": "code",
   "execution_count": 4,
   "metadata": {},
   "outputs": [
    {
     "data": {
      "text/html": [
       "<iframe src=http://127.0.0.1:8000/oculus.html?jsonb64=eyJwb2ludHMiOiBbeyJzb3VyY2UiOiAidXJsIiwgInVybCI6ICJodHRwczovL3BvaW50Y2xvdWR2aXN1YWxpemF0aW9uLnMzLmV1LWNlbnRyYWwtMS5hbWF6b25hd3MuY29tL2UyNjUyYWFiLTRhY2UtNGEwOS04NmY0LTM3NGIyM2NiNjc3Yi54eXppIiwgInR5cGUiOiAiWFlaSSJ9XX0= width=1000 height=550></iframe>"
      ],
      "text/plain": [
       "<IPython.core.display.HTML object>"
      ]
     },
     "execution_count": 4,
     "metadata": {},
     "output_type": "execute_result"
    }
   ],
   "source": [
    "todisplay = {\n",
    "    \"points\": [\n",
    "        {\n",
    "            \"source\": \"url\",\n",
    "            \"url\": \"https://pointcloudvisualization.s3.eu-central-1.amazonaws.com/e2652aab-4ace-4a09-86f4-374b23cb677b.xyzi\",\n",
    "            \"type\": \"XYZI\",\n",
    "        }\n",
    "    ]\n",
    "}\n",
    "\n",
    "data = json.dumps(todisplay)\n",
    "data = base64.urlsafe_b64encode(json.dumps(todisplay).encode())\n",
    "\n",
    "url = 'http://127.0.0.1:8000/oculus.html?jsonb64=' + data.decode('ascii')\n",
    "iframe = '<iframe src=' + url + ' width=1000 height=550></iframe>'\n",
    "IPython.display.HTML(iframe)\n"
   ]
  },
  {
   "cell_type": "markdown",
   "metadata": {},
   "source": [
    "# Input a JSON file with Base64 XYZI points\n",
    "Should show a pointcloud with XYZ with intensity points"
   ]
  },
  {
   "cell_type": "code",
   "execution_count": 5,
   "metadata": {},
   "outputs": [
    {
     "data": {
      "text/html": [
       "<iframe src=http://127.0.0.1:8000/oculus.html?jsonb64=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 width=1000 height=550></iframe>"
      ],
      "text/plain": [
       "<IPython.core.display.HTML object>"
      ]
     },
     "execution_count": 5,
     "metadata": {},
     "output_type": "execute_result"
    }
   ],
   "source": [
    "randompoints = np.random.rand(250,4)\n",
    "\n",
    "swapped_bytes = randompoints.astype(np.float32).byteswap()\n",
    "base_64_string = base64.b64encode(swapped_bytes)\n",
    "\n",
    "\n",
    "todisplay = {\n",
    "    \"points\": [\n",
    "        {\n",
    "            \"source\": \"base64\",\n",
    "            \"base64\": str(base_64_string)[2:-1],\n",
    "            \"type\": \"XYZI\"\n",
    "        }\n",
    "    ]\n",
    "}\n",
    "\n",
    "data = json.dumps(todisplay)\n",
    "data = base64.urlsafe_b64encode(json.dumps(todisplay).encode())\n",
    "\n",
    "url = 'http://127.0.0.1:8000/oculus.html?jsonb64=' + data.decode('ascii')\n",
    "# print(url)\n",
    "iframe = '<iframe src=' + url + ' width=1000 height=550></iframe>'\n",
    "IPython.display.HTML(iframe)"
   ]
  }
 ],
 "metadata": {
  "kernelspec": {
   "display_name": "Python 3",
   "language": "python",
   "name": "python3"
  },
  "language_info": {
   "codemirror_mode": {
    "name": "ipython",
    "version": 3
   },
   "file_extension": ".py",
   "mimetype": "text/x-python",
   "name": "python",
   "nbconvert_exporter": "python",
   "pygments_lexer": "ipython3",
   "version": "3.7.2"
  }
 },
 "nbformat": 4,
 "nbformat_minor": 2
}
