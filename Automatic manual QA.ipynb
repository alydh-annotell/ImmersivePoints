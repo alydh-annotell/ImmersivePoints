{
 "cells": [
  {
   "cell_type": "markdown",
   "metadata": {},
   "source": [
    "# Automatic manual QA\n",
    "When making changes to the page itself it's good to know that current files still work. That's why this notebook automatically renders some examples to verify that everything is still fine. "
   ]
  },
  {
   "cell_type": "code",
   "execution_count": 1,
   "metadata": {},
   "outputs": [],
   "source": [
    "import IPython\n",
    "import json\n",
    "import base64\n",
    "import numpy as np"
   ]
  },
  {
   "cell_type": "markdown",
   "metadata": {},
   "source": [
    "# No input to the URL\n",
    "Should display a nice example of what can be achieved"
   ]
  },
  {
   "cell_type": "code",
   "execution_count": 2,
   "metadata": {
    "scrolled": true
   },
   "outputs": [
    {
     "data": {
      "text/html": [
       "<iframe src=http://127.0.0.1:8000/oculus.html width=1000 height=550></iframe>"
      ],
      "text/plain": [
       "<IPython.core.display.HTML object>"
      ]
     },
     "execution_count": 2,
     "metadata": {},
     "output_type": "execute_result"
    }
   ],
   "source": [
    "url = 'http://127.0.0.1:8000/oculus.html'\n",
    "iframe = '<iframe src=' + url + ' width=1000 height=550></iframe>'\n",
    "IPython.display.HTML(iframe)"
   ]
  },
  {
   "cell_type": "markdown",
   "metadata": {},
   "source": [
    "# Set name to XYZ RGB file\n",
    "Should show a pointcloud with XYZ RGB points"
   ]
  },
  {
   "cell_type": "code",
   "execution_count": 3,
   "metadata": {},
   "outputs": [
    {
     "data": {
      "text/html": [
       "<iframe src=http://127.0.0.1:8000/oculus.html?name=236bcdf2-0376-4b8b-b76b-c15e58e75ecc.xyzrgb width=1000 height=550></iframe>"
      ],
      "text/plain": [
       "<IPython.core.display.HTML object>"
      ]
     },
     "execution_count": 3,
     "metadata": {},
     "output_type": "execute_result"
    }
   ],
   "source": [
    "url = 'http://127.0.0.1:8000/oculus.html?name=236bcdf2-0376-4b8b-b76b-c15e58e75ecc.xyzrgb'\n",
    "iframe = '<iframe src=' + url + ' width=1000 height=550></iframe>'\n",
    "IPython.display.HTML(iframe)"
   ]
  },
  {
   "cell_type": "markdown",
   "metadata": {},
   "source": [
    "# Input a JSON file with XYZI file\n",
    "Should show a pointcloud with XYZ with intensity points"
   ]
  },
  {
   "cell_type": "code",
   "execution_count": 4,
   "metadata": {},
   "outputs": [
    {
     "data": {
      "text/html": [
       "<iframe src=http://127.0.0.1:8000/oculus.html?jsonb64=eyJwb2ludHMiOiBbeyJzb3VyY2UiOiAidXJsIiwgInVybCI6ICJodHRwczovL3BvaW50Y2xvdWR2aXN1YWxpemF0aW9uLnMzLmV1LWNlbnRyYWwtMS5hbWF6b25hd3MuY29tL2UyNjUyYWFiLTRhY2UtNGEwOS04NmY0LTM3NGIyM2NiNjc3Yi54eXppIiwgInR5cGUiOiAiWFlaSSJ9XX0= width=1000 height=550></iframe>"
      ],
      "text/plain": [
       "<IPython.core.display.HTML object>"
      ]
     },
     "execution_count": 4,
     "metadata": {},
     "output_type": "execute_result"
    }
   ],
   "source": [
    "todisplay = {\n",
    "    \"points\": [\n",
    "        {\n",
    "            \"source\": \"url\",\n",
    "            \"url\": \"https://pointcloudvisualization.s3.eu-central-1.amazonaws.com/e2652aab-4ace-4a09-86f4-374b23cb677b.xyzi\",\n",
    "            \"type\": \"XYZI\",\n",
    "        }\n",
    "    ]\n",
    "}\n",
    "\n",
    "data = json.dumps(todisplay)\n",
    "data = base64.urlsafe_b64encode(json.dumps(todisplay).encode())\n",
    "\n",
    "url = 'http://127.0.0.1:8000/oculus.html?jsonb64=' + data.decode('ascii')\n",
    "iframe = '<iframe src=' + url + ' width=1000 height=550></iframe>'\n",
    "IPython.display.HTML(iframe)\n"
   ]
  },
  {
   "cell_type": "markdown",
   "metadata": {},
   "source": [
    "# Input a JSON file with Base64 XYZI points\n",
    "Should show a pointcloud with XYZ with intensity points"
   ]
  },
  {
   "cell_type": "code",
   "execution_count": 5,
   "metadata": {},
   "outputs": [
    {
     "data": {
      "text/html": [
       "<iframe src=http://127.0.0.1:8000/oculus.html?jsonb64=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 width=1000 height=550></iframe>"
      ],
      "text/plain": [
       "<IPython.core.display.HTML object>"
      ]
     },
     "execution_count": 5,
     "metadata": {},
     "output_type": "execute_result"
    }
   ],
   "source": [
    "randompoints = np.random.rand(250,4)\n",
    "\n",
    "swapped_bytes = randompoints.astype(np.float32).byteswap()\n",
    "base_64_string = base64.b64encode(swapped_bytes)\n",
    "\n",
    "\n",
    "todisplay = {\n",
    "    \"points\": [\n",
    "        {\n",
    "            \"source\": \"base64\",\n",
    "            \"base64\": str(base_64_string)[2:-1],\n",
    "            \"type\": \"XYZI\"\n",
    "        }\n",
    "    ]\n",
    "}\n",
    "\n",
    "data = json.dumps(todisplay)\n",
    "data = base64.urlsafe_b64encode(json.dumps(todisplay).encode())\n",
    "\n",
    "url = 'http://127.0.0.1:8000/oculus.html?jsonb64=' + data.decode('ascii')\n",
    "# print(url)\n",
    "iframe = '<iframe src=' + url + ' width=1000 height=550></iframe>'\n",
    "IPython.display.HTML(iframe)"
   ]
  },
  {
   "cell_type": "code",
   "execution_count": 6,
   "metadata": {},
   "outputs": [
    {
     "name": "stdout",
     "output_type": "stream",
     "text": [
      "http://127.0.0.1:8000/oculus.html?jsonb64=eyJwb2ludHMiOiBbeyJzb3VyY2UiOiAidXJsIiwgInVybCI6ICJodHRwczovL3BvaW50Y2xvdWR2aXN1YWxpemF0aW9uLnMzLmV1LWNlbnRyYWwtMS5hbWF6b25hd3MuY29tL2NhcnM1Lnh5emkiLCAidHlwZSI6ICJYWVpJIn1dLCAiYmJveGVzIjogW3sic291cmNlIjogInVybCIsICJ1cmwiOiAiaHR0cHM6Ly9wb2ludGNsb3VkdmlzdWFsaXphdGlvbi5zMy5ldS1jZW50cmFsLTEuYW1hem9uYXdzLmNvbS9jYXJzNWJveGVzLm5weSJ9XX0=\n"
     ]
    },
    {
     "data": {
      "text/html": [
       "<iframe src=http://127.0.0.1:8000/oculus.html?jsonb64=eyJwb2ludHMiOiBbeyJzb3VyY2UiOiAidXJsIiwgInVybCI6ICJodHRwczovL3BvaW50Y2xvdWR2aXN1YWxpemF0aW9uLnMzLmV1LWNlbnRyYWwtMS5hbWF6b25hd3MuY29tL2NhcnM1Lnh5emkiLCAidHlwZSI6ICJYWVpJIn1dLCAiYmJveGVzIjogW3sic291cmNlIjogInVybCIsICJ1cmwiOiAiaHR0cHM6Ly9wb2ludGNsb3VkdmlzdWFsaXphdGlvbi5zMy5ldS1jZW50cmFsLTEuYW1hem9uYXdzLmNvbS9jYXJzNWJveGVzLm5weSJ9XX0= width=1000 height=550></iframe>"
      ],
      "text/plain": [
       "<IPython.core.display.HTML object>"
      ]
     },
     "execution_count": 6,
     "metadata": {},
     "output_type": "execute_result"
    }
   ],
   "source": [
    "randompoints = np.random.rand(250,4)\n",
    "\n",
    "swapped_bytes = randompoints.astype(np.float32).byteswap()\n",
    "base_64_string = base64.b64encode(swapped_bytes)\n",
    "\n",
    "\n",
    "todisplay = {\n",
    "    \"points\": [\n",
    "        {\n",
    "            \"source\": \"url\",\n",
    "            \"url\": \"https://pointcloudvisualization.s3.eu-central-1.amazonaws.com/cars5.xyzi\",\n",
    "            \"type\": \"XYZI\"\n",
    "        }\n",
    "    ],\n",
    "    \"bboxes\": [\n",
    "        {     \n",
    "            \"source\": \"url\",\n",
    "            \"url\": \"https://pointcloudvisualization.s3.eu-central-1.amazonaws.com/cars5boxes.npy\"\n",
    "        }\n",
    "    ]\n",
    "}\n",
    "\n",
    "data = json.dumps(todisplay)\n",
    "data = base64.urlsafe_b64encode(json.dumps(todisplay).encode())\n",
    "\n",
    "url = 'http://127.0.0.1:8000/oculus.html?jsonb64=' + data.decode('ascii')\n",
    "print(url)\n",
    "iframe = '<iframe src=' + url + ' width=1000 height=550></iframe>'\n",
    "IPython.display.HTML(iframe)"
   ]
  },
  {
   "cell_type": "code",
   "execution_count": null,
   "metadata": {},
   "outputs": [],
   "source": []
  }
 ],
 "metadata": {
  "kernelspec": {
   "display_name": "Python 3",
   "language": "python",
   "name": "python3"
  },
  "language_info": {
   "codemirror_mode": {
    "name": "ipython",
    "version": 3
   },
   "file_extension": ".py",
   "mimetype": "text/x-python",
   "name": "python",
   "nbconvert_exporter": "python",
   "pygments_lexer": "ipython3",
   "version": "3.7.2"
  }
 },
 "nbformat": 4,
 "nbformat_minor": 2
}
