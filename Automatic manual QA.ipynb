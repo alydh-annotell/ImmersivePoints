{
 "cells": [
  {
   "cell_type": "markdown",
   "metadata": {},
   "source": [
    "# Automatic manual QA\n",
    "When making changes to the page itself it's good to know that current files still work. That's why this notebook automatically renders some examples to verify that everything is still fine. "
   ]
  },
  {
   "cell_type": "code",
   "execution_count": 1,
   "metadata": {},
   "outputs": [],
   "source": [
    "import IPython\n",
    "import json\n",
    "import base64\n",
    "import numpy as np"
   ]
  },
  {
   "cell_type": "markdown",
   "metadata": {},
   "source": [
    "# No input to the URL\n",
    "Should display a nice example of what can be achieved"
   ]
  },
  {
   "cell_type": "code",
   "execution_count": 2,
   "metadata": {
    "scrolled": true
   },
   "outputs": [
    {
     "data": {
      "text/html": [
       "<iframe src=http://127.0.0.1:8000/oculus.html width=1000 height=550></iframe>"
      ],
      "text/plain": [
       "<IPython.core.display.HTML object>"
      ]
     },
     "execution_count": 2,
     "metadata": {},
     "output_type": "execute_result"
    }
   ],
   "source": [
    "url = 'http://127.0.0.1:8000/oculus.html'\n",
    "iframe = '<iframe src=' + url + ' width=1000 height=550></iframe>'\n",
    "IPython.display.HTML(iframe)"
   ]
  },
  {
   "cell_type": "markdown",
   "metadata": {},
   "source": [
    "# Set name to XYZ RGB file\n",
    "Should show a pointcloud with XYZ RGB points"
   ]
  },
  {
   "cell_type": "code",
   "execution_count": 3,
   "metadata": {},
   "outputs": [
    {
     "data": {
      "text/html": [
       "<iframe src=http://127.0.0.1:8000/oculus.html?name=236bcdf2-0376-4b8b-b76b-c15e58e75ecc.xyzrgb width=1000 height=550></iframe>"
      ],
      "text/plain": [
       "<IPython.core.display.HTML object>"
      ]
     },
     "execution_count": 3,
     "metadata": {},
     "output_type": "execute_result"
    }
   ],
   "source": [
    "url = 'http://127.0.0.1:8000/oculus.html?name=236bcdf2-0376-4b8b-b76b-c15e58e75ecc.xyzrgb'\n",
    "iframe = '<iframe src=' + url + ' width=1000 height=550></iframe>'\n",
    "IPython.display.HTML(iframe)"
   ]
  },
  {
   "cell_type": "markdown",
   "metadata": {},
   "source": [
    "# Input a JSON file with XYZI file\n",
    "Should show a pointcloud with XYZ with intensity points"
   ]
  },
  {
   "cell_type": "code",
   "execution_count": 4,
   "metadata": {},
   "outputs": [
    {
     "data": {
      "text/html": [
       "<iframe src=http://127.0.0.1:8000/oculus.html?jsonb64=eyJwb2ludHMiOiBbeyJzb3VyY2UiOiAidXJsIiwgInVybCI6ICJodHRwczovL3BvaW50Y2xvdWR2aXN1YWxpemF0aW9uLnMzLmV1LWNlbnRyYWwtMS5hbWF6b25hd3MuY29tL2UyNjUyYWFiLTRhY2UtNGEwOS04NmY0LTM3NGIyM2NiNjc3Yi54eXppIiwgInR5cGUiOiAiWFlaSSJ9XX0= width=1000 height=550></iframe>"
      ],
      "text/plain": [
       "<IPython.core.display.HTML object>"
      ]
     },
     "execution_count": 4,
     "metadata": {},
     "output_type": "execute_result"
    }
   ],
   "source": [
    "todisplay = {\n",
    "    \"points\": [\n",
    "        {\n",
    "            \"source\": \"url\",\n",
    "            \"url\": \"https://pointcloudvisualization.s3.eu-central-1.amazonaws.com/e2652aab-4ace-4a09-86f4-374b23cb677b.xyzi\",\n",
    "            \"type\": \"XYZI\",\n",
    "        }\n",
    "    ]\n",
    "}\n",
    "\n",
    "data = json.dumps(todisplay)\n",
    "data = base64.urlsafe_b64encode(json.dumps(todisplay).encode())\n",
    "\n",
    "url = 'http://127.0.0.1:8000/oculus.html?jsonb64=' + data.decode('ascii')\n",
    "iframe = '<iframe src=' + url + ' width=1000 height=550></iframe>'\n",
    "IPython.display.HTML(iframe)\n"
   ]
  },
  {
   "cell_type": "markdown",
   "metadata": {},
   "source": [
    "# Input a JSON file with Base64 XYZI points\n",
    "Should show a pointcloud with XYZ with intensity points"
   ]
  },
  {
   "cell_type": "code",
   "execution_count": 5,
   "metadata": {},
   "outputs": [
    {
     "data": {
      "text/html": [
       "<iframe src=http://127.0.0.1:8000/oculus.html?jsonb64=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 width=1000 height=550></iframe>"
      ],
      "text/plain": [
       "<IPython.core.display.HTML object>"
      ]
     },
     "execution_count": 5,
     "metadata": {},
     "output_type": "execute_result"
    }
   ],
   "source": [
    "randompoints = np.random.rand(250,4)\n",
    "\n",
    "swapped_bytes = randompoints.astype(np.float32).byteswap()\n",
    "base_64_string = base64.b64encode(swapped_bytes)\n",
    "\n",
    "\n",
    "todisplay = {\n",
    "    \"points\": [\n",
    "        {\n",
    "            \"source\": \"base64\",\n",
    "            \"base64\": str(base_64_string)[2:-1],\n",
    "            \"type\": \"XYZI\"\n",
    "        }\n",
    "    ]\n",
    "}\n",
    "\n",
    "data = json.dumps(todisplay)\n",
    "data = base64.urlsafe_b64encode(json.dumps(todisplay).encode())\n",
    "\n",
    "url = 'http://127.0.0.1:8000/oculus.html?jsonb64=' + data.decode('ascii')\n",
    "# print(url)\n",
    "iframe = '<iframe src=' + url + ' width=1000 height=550></iframe>'\n",
    "IPython.display.HTML(iframe)"
   ]
  },
  {
   "cell_type": "code",
   "execution_count": 6,
   "metadata": {},
   "outputs": [
    {
     "name": "stdout",
     "output_type": "stream",
     "text": [
      "http://127.0.0.1:8000/oculus.html?jsonb64=eyJwb2ludHMiOiBbeyJzb3VyY2UiOiAidXJsIiwgInVybCI6ICJjYXJzNS5ucHkiLCAidHlwZSI6ICJYWVpJIn1dLCAiYmJveGVzIjogW3sic291cmNlIjogInVybCIsICJ1cmwiOiAiY2FyczVib3hlcy5ucHkifV19\n"
     ]
    },
    {
     "data": {
      "text/html": [
       "<iframe src=http://127.0.0.1:8000/oculus.html?jsonb64=eyJwb2ludHMiOiBbeyJzb3VyY2UiOiAidXJsIiwgInVybCI6ICJjYXJzNS5ucHkiLCAidHlwZSI6ICJYWVpJIn1dLCAiYmJveGVzIjogW3sic291cmNlIjogInVybCIsICJ1cmwiOiAiY2FyczVib3hlcy5ucHkifV19 width=1000 height=550></iframe>"
      ],
      "text/plain": [
       "<IPython.core.display.HTML object>"
      ]
     },
     "execution_count": 6,
     "metadata": {},
     "output_type": "execute_result"
    }
   ],
   "source": [
    "randompoints = np.random.rand(250,4)\n",
    "\n",
    "swapped_bytes = randompoints.astype(np.float32).byteswap()\n",
    "base_64_string = base64.b64encode(swapped_bytes)\n",
    "\n",
    "\n",
    "todisplay = {\n",
    "    \"points\": [\n",
    "        {\n",
    "            \"source\": \"url\",\n",
    "            \"url\": \"cars5.npy\",\n",
    "            \"type\": \"XYZI\"\n",
    "        }\n",
    "    ],\n",
    "    \"bboxes\": [\n",
    "        {     \n",
    "            \"source\": \"url\",\n",
    "            \"url\": \"cars5boxes.npy\"\n",
    "        }\n",
    "    ]\n",
    "}\n",
    "\n",
    "data = json.dumps(todisplay)\n",
    "data = base64.urlsafe_b64encode(json.dumps(todisplay).encode())\n",
    "\n",
    "url = 'http://127.0.0.1:8000/oculus.html?jsonb64=' + data.decode('ascii')\n",
    "print(url)\n",
    "iframe = '<iframe src=' + url + ' width=1000 height=550></iframe>'\n",
    "IPython.display.HTML(iframe)"
   ]
  },
  {
   "cell_type": "code",
   "execution_count": null,
   "metadata": {},
   "outputs": [],
   "source": []
  }
 ],
 "metadata": {
  "kernelspec": {
   "display_name": "Python 3",
   "language": "python",
   "name": "python3"
  },
  "language_info": {
   "codemirror_mode": {
    "name": "ipython",
    "version": 3
   },
   "file_extension": ".py",
   "mimetype": "text/x-python",
   "name": "python",
   "nbconvert_exporter": "python",
   "pygments_lexer": "ipython3",
   "version": "3.7.2"
  }
 },
 "nbformat": 4,
 "nbformat_minor": 2
}
