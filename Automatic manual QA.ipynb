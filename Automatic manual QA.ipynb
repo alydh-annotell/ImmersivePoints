{
 "cells": [
  {
   "cell_type": "markdown",
   "metadata": {},
   "source": [
    "# Automatic manual QA\n",
    "When making changes to the page itself it's good to know that current files still work. That's why this notebook automatically renders some examples to verify that everything is still fine. "
   ]
  },
  {
   "cell_type": "code",
   "execution_count": 1,
   "metadata": {},
   "outputs": [],
   "source": [
    "import IPython\n",
    "import json\n",
    "import base64\n",
    "import numpy as np"
   ]
  },
  {
   "cell_type": "markdown",
   "metadata": {},
   "source": [
    "# No input to the URL\n",
    "Should display a nice example of what can be achieved"
   ]
  },
  {
   "cell_type": "code",
   "execution_count": 2,
   "metadata": {
    "scrolled": true
   },
   "outputs": [
    {
     "data": {
      "text/html": [
       "<iframe src=http://127.0.0.1:8000/oculus.html width=1000 height=550></iframe>"
      ],
      "text/plain": [
       "<IPython.core.display.HTML object>"
      ]
     },
     "execution_count": 2,
     "metadata": {},
     "output_type": "execute_result"
    }
   ],
   "source": [
    "url = 'http://127.0.0.1:8000/oculus.html'\n",
    "iframe = '<iframe src=' + url + ' width=1000 height=550></iframe>'\n",
    "IPython.display.HTML(iframe)"
   ]
  },
  {
   "cell_type": "markdown",
   "metadata": {},
   "source": [
    "# Set name to XYZ RGB file\n",
    "Should show a pointcloud with XYZ RGB points"
   ]
  },
  {
   "cell_type": "code",
   "execution_count": 3,
   "metadata": {},
   "outputs": [
    {
     "data": {
      "text/html": [
       "<iframe src=http://127.0.0.1:8000/oculus.html?name=236bcdf2-0376-4b8b-b76b-c15e58e75ecc.xyzrgb width=1000 height=550></iframe>"
      ],
      "text/plain": [
       "<IPython.core.display.HTML object>"
      ]
     },
     "execution_count": 3,
     "metadata": {},
     "output_type": "execute_result"
    }
   ],
   "source": [
    "url = 'http://127.0.0.1:8000/oculus.html?name=236bcdf2-0376-4b8b-b76b-c15e58e75ecc.xyzrgb'\n",
    "iframe = '<iframe src=' + url + ' width=1000 height=550></iframe>'\n",
    "IPython.display.HTML(iframe)"
   ]
  },
  {
   "cell_type": "markdown",
   "metadata": {},
   "source": [
    "# Input a JSON file with XYZI file\n",
    "Should show a pointcloud with XYZ with intensity points"
   ]
  },
  {
   "cell_type": "code",
   "execution_count": 4,
   "metadata": {},
   "outputs": [
    {
     "data": {
      "text/html": [
       "<iframe src=http://127.0.0.1:8000/oculus.html?jsonb64=eyJwb2ludHMiOiBbeyJzb3VyY2UiOiAidXJsIiwgInVybCI6ICJodHRwczovL3BvaW50Y2xvdWR2aXN1YWxpemF0aW9uLnMzLmV1LWNlbnRyYWwtMS5hbWF6b25hd3MuY29tL2UyNjUyYWFiLTRhY2UtNGEwOS04NmY0LTM3NGIyM2NiNjc3Yi54eXppIiwgInR5cGUiOiAiWFlaSSJ9XX0= width=1000 height=550></iframe>"
      ],
      "text/plain": [
       "<IPython.core.display.HTML object>"
      ]
     },
     "execution_count": 4,
     "metadata": {},
     "output_type": "execute_result"
    }
   ],
   "source": [
    "todisplay = {\n",
    "    \"points\": [\n",
    "        {\n",
    "            \"source\": \"url\",\n",
    "            \"url\": \"https://pointcloudvisualization.s3.eu-central-1.amazonaws.com/e2652aab-4ace-4a09-86f4-374b23cb677b.xyzi\",\n",
    "            \"type\": \"XYZI\",\n",
    "        }\n",
    "    ]\n",
    "}\n",
    "\n",
    "data = json.dumps(todisplay)\n",
    "data = base64.urlsafe_b64encode(json.dumps(todisplay).encode())\n",
    "\n",
    "url = 'http://127.0.0.1:8000/oculus.html?jsonb64=' + data.decode('ascii')\n",
    "iframe = '<iframe src=' + url + ' width=1000 height=550></iframe>'\n",
    "IPython.display.HTML(iframe)\n"
   ]
  },
  {
   "cell_type": "markdown",
   "metadata": {},
   "source": [
    "# Input a JSON file with Base64 XYZI points\n",
    "Should show a pointcloud with XYZ with intensity points"
   ]
  },
  {
   "cell_type": "code",
   "execution_count": 9,
   "metadata": {},
   "outputs": [
    {
     "data": {
      "text/html": [
       "<iframe src=http://127.0.0.1:8000/oculus.html?jsonb64=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 width=1000 height=550></iframe>"
      ],
      "text/plain": [
       "<IPython.core.display.HTML object>"
      ]
     },
     "execution_count": 9,
     "metadata": {},
     "output_type": "execute_result"
    }
   ],
   "source": [
    "randompoints = np.random.rand(250,4)\n",
    "\n",
    "swapped_bytes = randompoints.astype(np.float32).byteswap()\n",
    "base_64_string = base64.b64encode(swapped_bytes)\n",
    "\n",
    "\n",
    "todisplay = {\n",
    "    \"points\": [\n",
    "        {\n",
    "            \"source\": \"base64\",\n",
    "            \"base64\": str(base_64_string)[2:-1],\n",
    "            \"type\": \"XYZI\"\n",
    "        }\n",
    "    ]\n",
    "}\n",
    "\n",
    "data = json.dumps(todisplay)\n",
    "data = base64.urlsafe_b64encode(json.dumps(todisplay).encode())\n",
    "\n",
    "url = 'http://127.0.0.1:8000/oculus.html?jsonb64=' + data.decode('ascii')\n",
    "# print(url)\n",
    "iframe = '<iframe src=' + url + ' width=1000 height=550></iframe>'\n",
    "IPython.display.HTML(iframe)"
   ]
  },
  {
   "cell_type": "code",
   "execution_count": 6,
   "metadata": {},
   "outputs": [
    {
     "name": "stdout",
     "output_type": "stream",
     "text": [
      "http://127.0.0.1:8000/oculus.html?jsonb64=eyJwb2ludHMiOiBbeyJzb3VyY2UiOiAidXJsIiwgInVybCI6ICJodHRwczovL3BvaW50Y2xvdWR2aXN1YWxpemF0aW9uLnMzLmV1LWNlbnRyYWwtMS5hbWF6b25hd3MuY29tL2NhcnM1Lnh5emkiLCAidHlwZSI6ICJYWVpJIn1dLCAiYmJveGVzIjogW3sic291cmNlIjogInVybCIsICJ1cmwiOiAiaHR0cHM6Ly9wb2ludGNsb3VkdmlzdWFsaXphdGlvbi5zMy5ldS1jZW50cmFsLTEuYW1hem9uYXdzLmNvbS9jYXJzNWJveGVzLm5weSJ9XX0=\n"
     ]
    },
    {
     "data": {
      "text/html": [
       "<iframe src=http://127.0.0.1:8000/oculus.html?jsonb64=eyJwb2ludHMiOiBbeyJzb3VyY2UiOiAidXJsIiwgInVybCI6ICJodHRwczovL3BvaW50Y2xvdWR2aXN1YWxpemF0aW9uLnMzLmV1LWNlbnRyYWwtMS5hbWF6b25hd3MuY29tL2NhcnM1Lnh5emkiLCAidHlwZSI6ICJYWVpJIn1dLCAiYmJveGVzIjogW3sic291cmNlIjogInVybCIsICJ1cmwiOiAiaHR0cHM6Ly9wb2ludGNsb3VkdmlzdWFsaXphdGlvbi5zMy5ldS1jZW50cmFsLTEuYW1hem9uYXdzLmNvbS9jYXJzNWJveGVzLm5weSJ9XX0= width=1000 height=550></iframe>"
      ],
      "text/plain": [
       "<IPython.core.display.HTML object>"
      ]
     },
     "execution_count": 6,
     "metadata": {},
     "output_type": "execute_result"
    }
   ],
   "source": [
    "randompoints = np.random.rand(250,4)\n",
    "\n",
    "swapped_bytes = randompoints.astype(np.float32).byteswap()\n",
    "base_64_string = base64.b64encode(swapped_bytes)\n",
    "\n",
    "\n",
    "todisplay = {\n",
    "    \"points\": [\n",
    "        {\n",
    "            \"source\": \"url\",\n",
    "            \"url\": \"https://pointcloudvisualization.s3.eu-central-1.amazonaws.com/cars5.xyzi\",\n",
    "            \"type\": \"XYZI\"\n",
    "        }\n",
    "    ],\n",
    "    \"bboxes\": [\n",
    "        {     \n",
    "            \"source\": \"url\",\n",
    "            \"url\": \"https://pointcloudvisualization.s3.eu-central-1.amazonaws.com/cars5boxes.npy\"\n",
    "        }\n",
    "    ]\n",
    "}\n",
    "\n",
    "data = json.dumps(todisplay)\n",
    "data = base64.urlsafe_b64encode(json.dumps(todisplay).encode())\n",
    "\n",
    "url = 'http://127.0.0.1:8000/oculus.html?jsonb64=' + data.decode('ascii')\n",
    "print(url)\n",
    "iframe = '<iframe src=' + url + ' width=1000 height=550></iframe>'\n",
    "IPython.display.HTML(iframe)"
   ]
  },
  {
   "cell_type": "code",
   "execution_count": null,
   "metadata": {},
   "outputs": [],
   "source": []
  }
 ],
 "metadata": {
  "kernelspec": {
   "display_name": "Python 3",
   "language": "python",
   "name": "python3"
  },
  "language_info": {
   "codemirror_mode": {
    "name": "ipython",
    "version": 3
   },
   "file_extension": ".py",
   "mimetype": "text/x-python",
   "name": "python",
   "nbconvert_exporter": "python",
   "pygments_lexer": "ipython3",
   "version": "3.7.2"
  }
 },
 "nbformat": 4,
 "nbformat_minor": 2
}
